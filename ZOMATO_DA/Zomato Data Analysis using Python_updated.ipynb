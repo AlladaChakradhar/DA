{
 "cells": [
  {
   "cell_type": "markdown",
   "id": "d81d3084",
   "metadata": {},
   "source": [
    "# Importing Libraries\n",
    "\n",
    "Importing libraries such as Kaggle, zipfile,Pandas, Numpy, Seaborn, matplotlib etc."
   ]
  },
  {
   "cell_type": "code",
   "execution_count": null,
   "id": "abad650f",
   "metadata": {},
   "outputs": [],
   "source": [
    "import kaggle"
   ]
  },
  {
   "cell_type": "markdown",
   "id": "0d3e6a85",
   "metadata": {},
   "source": [
    "Download Dataset from Kaggle to local "
   ]
  },
  {
   "cell_type": "code",
   "execution_count": null,
   "id": "6157841f",
   "metadata": {},
   "outputs": [],
   "source": [
    "!kaggle datasets download rajeshrampure/zomato-dataset"
   ]
  },
  {
   "cell_type": "markdown",
   "id": "cd93ce4c",
   "metadata": {},
   "source": [
    "Extract the zip file to get the required dataset using zipfile library "
   ]
  },
  {
   "cell_type": "code",
   "execution_count": null,
   "id": "764601a4",
   "metadata": {},
   "outputs": [],
   "source": [
    "import zipfile\n",
    "zip_ref=zipfile.ZipFile('zomato-dataset.zip')\n",
    "zip_ref.extractall()\n",
    "zip_ref.close()"
   ]
  },
  {
   "cell_type": "code",
   "execution_count": null,
   "id": "5f130a65",
   "metadata": {},
   "outputs": [],
   "source": [
    "import pandas as pd\n",
    "df=pd.read_csv('zomato.csv')"
   ]
  },
  {
   "cell_type": "code",
   "execution_count": null,
   "id": "d8064bb4",
   "metadata": {},
   "outputs": [],
   "source": [
    "df.head()"
   ]
  },
  {
   "cell_type": "code",
   "execution_count": null,
   "id": "8414cf3f",
   "metadata": {},
   "outputs": [],
   "source": [
    "df['menu_item'].unique()"
   ]
  },
  {
   "cell_type": "code",
   "execution_count": null,
   "id": "7b0ba60b",
   "metadata": {},
   "outputs": [],
   "source": [
    "df['listed_in(city)'].unique()"
   ]
  },
  {
   "cell_type": "code",
   "execution_count": null,
   "id": "e7716a57",
   "metadata": {},
   "outputs": [],
   "source": [
    "import numpy as np\n",
    "import pandas as pd\n",
    "import matplotlib.pyplot as plt\n",
    "import seaborn as sns\n",
    "import warnings \n",
    "warnings.filterwarnings('ignore')"
   ]
  },
  {
   "cell_type": "code",
   "execution_count": null,
   "id": "361729f4",
   "metadata": {},
   "outputs": [],
   "source": [
    "df.columns"
   ]
  },
  {
   "cell_type": "code",
   "execution_count": null,
   "id": "ba59cd7a",
   "metadata": {},
   "outputs": [],
   "source": [
    "df.isna().sum()"
   ]
  },
  {
   "cell_type": "markdown",
   "id": "4bee877a",
   "metadata": {},
   "source": [
    "Drop the unwanted columns "
   ]
  },
  {
   "cell_type": "code",
   "execution_count": null,
   "id": "701209d0",
   "metadata": {},
   "outputs": [],
   "source": [
    "drop_columns=['url','phone','reviews_list','menu_item']\n",
    "df.drop(drop_columns,axis=1,inplace=True)"
   ]
  },
  {
   "cell_type": "code",
   "execution_count": null,
   "id": "6068e919",
   "metadata": {},
   "outputs": [],
   "source": [
    "df.head()"
   ]
  },
  {
   "cell_type": "code",
   "execution_count": null,
   "id": "aacf522c",
   "metadata": {},
   "outputs": [],
   "source": [
    "df.shape"
   ]
  },
  {
   "cell_type": "code",
   "execution_count": null,
   "id": "85636fc6",
   "metadata": {},
   "outputs": [],
   "source": [
    "df.info()"
   ]
  },
  {
   "cell_type": "markdown",
   "id": "49ba4ec8",
   "metadata": {},
   "source": [
    "Cleaning \"address\" column for future usecase"
   ]
  },
  {
   "cell_type": "code",
   "execution_count": null,
   "id": "ff42f55e",
   "metadata": {},
   "outputs": [],
   "source": [
    "df['address']=df['address'].str.split(',').str[-1].str.strip()\n",
    "df['address'].str.replace(r'Bangalore|Banglore','Bengaluru',case=False,regex=True)"
   ]
  },
  {
   "cell_type": "markdown",
   "id": "a1b3dfa3",
   "metadata": {},
   "source": [
    "Percentage of missing value in each column"
   ]
  },
  {
   "cell_type": "code",
   "execution_count": null,
   "id": "e2e5afae",
   "metadata": {},
   "outputs": [],
   "source": [
    "df.isna().mean()*100"
   ]
  },
  {
   "cell_type": "markdown",
   "id": "4c329126",
   "metadata": {},
   "source": [
    "Dropping dish_liked column as it is having more null percentage\n"
   ]
  },
  {
   "cell_type": "code",
   "execution_count": null,
   "id": "068a03a5",
   "metadata": {},
   "outputs": [],
   "source": [
    "df.drop(\"dish_liked\",axis=1,inplace=True)"
   ]
  },
  {
   "cell_type": "code",
   "execution_count": null,
   "id": "dbca2228",
   "metadata": {},
   "outputs": [],
   "source": [
    "df"
   ]
  },
  {
   "cell_type": "code",
   "execution_count": null,
   "id": "a970736c",
   "metadata": {},
   "outputs": [],
   "source": [
    "df.isna().sum()"
   ]
  },
  {
   "cell_type": "code",
   "execution_count": null,
   "id": "13f0ee4b",
   "metadata": {},
   "outputs": [],
   "source": [
    "df['rate'].unique()"
   ]
  },
  {
   "cell_type": "markdown",
   "id": "dc1ed06d",
   "metadata": {},
   "source": [
    "#Cleaning rate column\n",
    "\n",
    "As it is having multiple different values such as 'nan','/',' /' etc making it to single unique values"
   ]
  },
  {
   "cell_type": "code",
   "execution_count": null,
   "id": "157f8a7d",
   "metadata": {},
   "outputs": [],
   "source": [
    "df['rate']=df['rate'].str.strip('/').str[0].str.strip()\n",
    "df['rate']=df['rate'].str.strip(' /').str[0].str.strip()\n",
    "df['rate']=df['rate'].str.strip('_').str[0].str.strip()\n",
    "df['rate']=pd.to_numeric(df['rate'],errors='coerce')\n",
    "df['rate']=df['rate'].astype(float)\n",
    "df['rate']=df['rate'].fillna(0)\n",
    "df['rate'].unique()"
   ]
  },
  {
   "cell_type": "code",
   "execution_count": null,
   "id": "52d3b03e",
   "metadata": {},
   "outputs": [],
   "source": [
    "df.head()"
   ]
  },
  {
   "cell_type": "code",
   "execution_count": null,
   "id": "4a0776b2",
   "metadata": {},
   "outputs": [],
   "source": [
    "df.isna().sum()"
   ]
  },
  {
   "cell_type": "code",
   "execution_count": null,
   "id": "6c327ddd",
   "metadata": {},
   "outputs": [],
   "source": [
    "df.dropna(inplace=True)\n",
    "df.reset_index(drop=True,inplace=True)"
   ]
  },
  {
   "cell_type": "code",
   "execution_count": null,
   "id": "9f8518f5",
   "metadata": {},
   "outputs": [],
   "source": [
    "df.isna().sum()"
   ]
  },
  {
   "cell_type": "markdown",
   "id": "cb502421",
   "metadata": {},
   "source": [
    "Cleaning 'approx_cost(for two people)' and changing its dtype"
   ]
  },
  {
   "cell_type": "code",
   "execution_count": null,
   "id": "825ad911",
   "metadata": {},
   "outputs": [],
   "source": [
    "df['approx_cost(for two people)'].unique()"
   ]
  },
  {
   "cell_type": "code",
   "execution_count": null,
   "id": "c331b62e",
   "metadata": {},
   "outputs": [],
   "source": [
    "df['approx_cost(for two people)']=df['approx_cost(for two people)'].str.replace(',','')"
   ]
  },
  {
   "cell_type": "code",
   "execution_count": null,
   "id": "0d82a82f",
   "metadata": {},
   "outputs": [],
   "source": [
    "df['approx_cost(for two people)'].unique()"
   ]
  },
  {
   "cell_type": "code",
   "execution_count": null,
   "id": "f2f0dbd7",
   "metadata": {},
   "outputs": [],
   "source": [
    "df['approx_cost(for two people)']=df['approx_cost(for two people)'].astype(float)"
   ]
  },
  {
   "cell_type": "code",
   "execution_count": null,
   "id": "979c5230",
   "metadata": {},
   "outputs": [],
   "source": [
    "df['approx_cost(for two people)'].dtype"
   ]
  },
  {
   "cell_type": "code",
   "execution_count": null,
   "id": "df9aec5f",
   "metadata": {},
   "outputs": [],
   "source": [
    "df.head(5)"
   ]
  },
  {
   "cell_type": "markdown",
   "id": "0ca8e219",
   "metadata": {},
   "source": [
    "Restaurants delivering Online or not"
   ]
  },
  {
   "cell_type": "code",
   "execution_count": null,
   "id": "fc41e15a",
   "metadata": {},
   "outputs": [],
   "source": [
    "df['online_order'].value_counts().plot(kind='pie',autopct='%0.2f%%',shadow=True,explode=[0,0.05])\n",
    "plt.title('Restaurants Delivering online or not')\n",
    "plt.ylabel('Online Order Percentage')"
   ]
  },
  {
   "cell_type": "markdown",
   "id": "512deea3",
   "metadata": {},
   "source": [
    "Restaurants allowing table booking or not"
   ]
  },
  {
   "cell_type": "code",
   "execution_count": null,
   "id": "fc7198c8",
   "metadata": {},
   "outputs": [],
   "source": [
    "df.book_table.value_counts().plot(kind='pie',explode=[0,0.05],autopct='%0.02f%%')\n",
    "plt.title('Restaurants Offering table booking')\n",
    "plt.ylabel('Table Booking Percentage')"
   ]
  },
  {
   "cell_type": "markdown",
   "id": "dd8d8c4f",
   "metadata": {},
   "source": [
    "Table booking Rate vs Rate"
   ]
  },
  {
   "cell_type": "code",
   "execution_count": null,
   "id": "c3ccff6e",
   "metadata": {},
   "outputs": [],
   "source": [
    "group_df=df.groupby('book_table')['rate'].mean().reset_index()\n",
    "sns.barplot(data=group_df,x='book_table',y='rate')\n",
    "plt.title('Table Bookings vs Rate')\n",
    "plt.xlabel('Table Bookings')\n",
    "plt.ylabel('Average Ratings')\n",
    "plt.show()\n"
   ]
  },
  {
   "cell_type": "code",
   "execution_count": null,
   "id": "c10acae9",
   "metadata": {},
   "outputs": [],
   "source": [
    "df.head()"
   ]
  },
  {
   "cell_type": "markdown",
   "id": "ec029972",
   "metadata": {},
   "source": [
    "Top 10 Locations in Restaurants count wise"
   ]
  },
  {
   "cell_type": "code",
   "execution_count": null,
   "id": "57c9ba25",
   "metadata": {},
   "outputs": [],
   "source": [
    "top10_loc=df['listed_in(city)'].value_counts()[:10].reset_index()\n",
    "top10_loc.columns=['city','count']\n",
    "# top10_loc.columns\n",
    "# plt.figure(figsize=(10,5))\n",
    "sns.barplot(data=top10_loc,x='city',y='count')\n",
    "plt.xlabel('Restaurant City')\n",
    "plt.ylabel('Count of restaurants')\n",
    "plt.title('Top 10 Locations in Restaurants count wise')\n",
    "plt.xticks(rotation=90)"
   ]
  },
  {
   "cell_type": "code",
   "execution_count": null,
   "id": "1f795890",
   "metadata": {},
   "outputs": [],
   "source": [
    "# Relation between Location and Rating\n",
    "best_location_rating=df.groupby('listed_in(city)')['rate'].mean().reset_index()\n",
    "# best_location_rating.sort_values('rate',ascending=False)\n",
    "best_location_rating=best_location_rating.sort_values(by='rate',ascending=False)\n",
    "plt.figure(figsize=(10,5))\n",
    "sns.barplot(data=best_location_rating,x='listed_in(city)',y='rate')\n",
    "plt.xlabel('Restaurant location')\n",
    "plt.ylabel('AVG rating')\n",
    "plt.title('AVG restaurants rating for each location')\n",
    "plt.xticks(rotation=90)\n",
    "plt.tight_layout()\n",
    "plt.show()"
   ]
  },
  {
   "cell_type": "markdown",
   "id": "c9caee92",
   "metadata": {},
   "source": [
    "Restaurant Types"
   ]
  },
  {
   "cell_type": "code",
   "execution_count": null,
   "id": "cf7e84ff",
   "metadata": {},
   "outputs": [],
   "source": [
    "df.columns"
   ]
  },
  {
   "cell_type": "code",
   "execution_count": null,
   "id": "4fc853d7",
   "metadata": {},
   "outputs": [],
   "source": [
    "types_df=df.rest_type.value_counts()[:10].reset_index()\n",
    "types_df.columns=['type','count']\n",
    "# top10_loc.columns\n",
    "# plt.figure(figsize=(10,5))\n",
    "sns.barplot(data=types_df,x='type',y='count')\n",
    "plt.xticks(rotation=90)\n",
    "plt.title('Types of Restaurants and their count in City')\n",
    "plt.xlabel('Types of Restaurants')\n",
    "plt.ylabel('Count')"
   ]
  },
  {
   "cell_type": "markdown",
   "id": "bccb3479",
   "metadata": {},
   "source": [
    "Types of Services"
   ]
  },
  {
   "cell_type": "code",
   "execution_count": null,
   "id": "52c46cbd",
   "metadata": {},
   "outputs": [],
   "source": [
    "df.columns"
   ]
  },
  {
   "cell_type": "code",
   "execution_count": null,
   "id": "ad68759c",
   "metadata": {},
   "outputs": [],
   "source": [
    "services=df['listed_in(type)'].value_counts().reset_index()\n",
    "services.columns=['service','count']\n",
    "sns.barplot(data=services,x='service',y='count')\n",
    "plt.title('Types of services offered in City')\n",
    "plt.xlabel('Service')\n",
    "plt.ylabel('Count of Restaurants')\n",
    "plt.xticks(rotation=90)\n",
    "plt.show()"
   ]
  },
  {
   "cell_type": "code",
   "execution_count": null,
   "id": "472cbfd6",
   "metadata": {},
   "outputs": [],
   "source": [
    "df.columns"
   ]
  },
  {
   "cell_type": "code",
   "execution_count": null,
   "id": "041fb801",
   "metadata": {},
   "outputs": [],
   "source": [
    "cost_per_rest=df.groupby('listed_in(city)')['approx_cost(for two people)'].mean().reset_index()\n",
    "cost_per_rest.columns=['Area','Avg']\n",
    "plt.figure(figsize=(10,5))\n",
    "sns.barplot(data=cost_per_rest.sort_values('Avg', ascending=False),x='Area',y='Avg')\n",
    "plt.title('Average Price of Restaurant vs Location')\n",
    "plt.xlabel('Area / Location')\n",
    "plt.ylabel('Avg Price of Restaurant')\n",
    "plt.xticks(rotation=90)\n",
    "plt.show()"
   ]
  },
  {
   "cell_type": "code",
   "execution_count": null,
   "id": "031951e7",
   "metadata": {},
   "outputs": [],
   "source": [
    "cost_per_rest.sort_values()"
   ]
  },
  {
   "cell_type": "code",
   "execution_count": null,
   "id": "99fbb3ec",
   "metadata": {},
   "outputs": [],
   "source": []
  }
 ],
 "metadata": {
  "kernelspec": {
   "display_name": "Python 3 (ipykernel)",
   "language": "python",
   "name": "python3"
  },
  "language_info": {
   "codemirror_mode": {
    "name": "ipython",
    "version": 3
   },
   "file_extension": ".py",
   "mimetype": "text/x-python",
   "name": "python",
   "nbconvert_exporter": "python",
   "pygments_lexer": "ipython3",
   "version": "3.10.9"
  }
 },
 "nbformat": 4,
 "nbformat_minor": 5
}
